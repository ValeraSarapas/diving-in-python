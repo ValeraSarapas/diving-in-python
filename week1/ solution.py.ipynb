{
 "cells": [
  {
   "cell_type": "code",
   "execution_count": 1,
   "metadata": {},
   "outputs": [],
   "source": [
    "import sys\n",
    "if __name__ == 'main':\n",
    "    digit_string = sys.argv[1]\n",
    "    summa = 0\n",
    "    for digit in digit_string:\n",
    "        if digit.isdigit():\n",
    "            summa = summa + int(digit)\n",
    "    print(summa)    "
   ]
  }
 ],
 "metadata": {
  "kernelspec": {
   "display_name": "Python 3",
   "language": "python",
   "name": "python3"
  },
  "language_info": {
   "codemirror_mode": {
    "name": "ipython",
    "version": 3
   },
   "file_extension": ".py",
   "mimetype": "text/x-python",
   "name": "python",
   "nbconvert_exporter": "python",
   "pygments_lexer": "ipython3",
   "version": "3.6.5"
  }
 },
 "nbformat": 4,
 "nbformat_minor": 2
}
